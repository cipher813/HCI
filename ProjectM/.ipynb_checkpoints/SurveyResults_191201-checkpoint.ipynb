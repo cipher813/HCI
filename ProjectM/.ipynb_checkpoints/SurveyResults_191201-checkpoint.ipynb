{
 "cells": [
  {
   "cell_type": "code",
   "execution_count": 1,
   "metadata": {},
   "outputs": [],
   "source": [
    "import pandas as pd"
   ]
  },
  {
   "cell_type": "code",
   "execution_count": 2,
   "metadata": {},
   "outputs": [],
   "source": [
    "def question_result(dataframe, column):\n",
    "    \"\"\"Print count and percentage of question\"\"\"\n",
    "    df = dataframe.groupby(column).agg({\"response\":\"count\"})\n",
    "    df.rename(columns={\"response\":\"count\"},inplace=True)\n",
    "    df['percent'] = 100 * (df / df.sum())\n",
    "    return df.round(1)\n",
    "\n",
    "def prototype_result(dataframe,n_questions):\n",
    "    \"\"\"Print results of all questions for a single prototype\"\"\"\n",
    "    for i in range(1,n_questions + 1):\n",
    "        print(question_result(dataframe,f\"Q{i}\"))\n",
    "        print(\"\\n\")\n",
    "        \n",
    "def print_feedback(dataframe, column):\n",
    "    \"\"\"Print all non-null comments\"\"\"\n",
    "    for i in range(len(dataframe[column])):\n",
    "        value = dataframe[column].iloc[i]\n",
    "        if not isinstance(value,float) and value!=\"nan\":\n",
    "            print(value)"
   ]
  },
  {
   "cell_type": "code",
   "execution_count": null,
   "metadata": {},
   "outputs": [],
   "source": []
  },
  {
   "cell_type": "markdown",
   "metadata": {},
   "source": [
    "### As of December 8, 2019"
   ]
  },
  {
   "cell_type": "code",
   "execution_count": 3,
   "metadata": {},
   "outputs": [],
   "source": [
    "wizard = pd.read_csv(\"wizard_191208.csv\")\n",
    "template = pd.read_csv(\"template_191208.csv\")"
   ]
  },
  {
   "cell_type": "markdown",
   "metadata": {},
   "source": [
    "### Wizard"
   ]
  },
  {
   "cell_type": "code",
   "execution_count": 4,
   "metadata": {},
   "outputs": [
    {
     "name": "stdout",
     "output_type": "stream",
     "text": [
      "                         count  percent\n",
      "Q1                                     \n",
      "Cloud Solution Engineer      2     14.3\n",
      "Other                        3     21.4\n",
      "Software Engineer            7     50.0\n",
      "Student                      2     14.3\n",
      "\n",
      "\n",
      "                        count  percent\n",
      "Q2                                    \n",
      "Analyst                     1     33.3\n",
      "Cyber Security Manager      1     33.3\n",
      "Network Engineer            1     33.3\n",
      "\n",
      "\n",
      "         count  percent\n",
      "Q3                     \n",
      "18 - 29      6     42.9\n",
      "30 - 39      7     50.0\n",
      "40 - 49      1      7.1\n",
      "\n",
      "\n",
      "        count  percent\n",
      "Q4                    \n",
      "Female      3     21.4\n",
      "Male       11     78.6\n",
      "\n",
      "\n",
      "               count  percent\n",
      "Q5                           \n",
      "Europe             1      7.1\n",
      "India              1      7.1\n",
      "Middle East        1      7.1\n",
      "North America     11     78.6\n",
      "\n",
      "\n",
      "              count  percent\n",
      "Q6                          \n",
      "Intermediate      6     42.9\n",
      "Novice            8     57.1\n",
      "\n",
      "\n",
      "      count  percent\n",
      "Q7                  \n",
      "1-5       7     50.0\n",
      "16+       1      7.1\n",
      "None      6     42.9\n",
      "\n",
      "\n",
      "    count  percent\n",
      "Q8                \n",
      "3       3     21.4\n",
      "4      10     71.4\n",
      "5       1      7.1\n",
      "\n",
      "\n",
      "    count  percent\n",
      "Q9                \n",
      "3       1      7.1\n",
      "4      13     92.9\n",
      "\n",
      "\n",
      "     count  percent\n",
      "Q10                \n",
      "4       12     85.7\n",
      "5        2     14.3\n",
      "\n",
      "\n",
      "     count  percent\n",
      "Q11                \n",
      "2        3     21.4\n",
      "3        2     14.3\n",
      "4        9     64.3\n",
      "\n",
      "\n",
      "     count  percent\n",
      "Q12                \n",
      "3        1      7.1\n",
      "4       12     85.7\n",
      "5        1      7.1\n",
      "\n",
      "\n"
     ]
    }
   ],
   "source": [
    "prototype_result(wizard,12)"
   ]
  },
  {
   "cell_type": "code",
   "execution_count": 5,
   "metadata": {},
   "outputs": [
    {
     "name": "stdout",
     "output_type": "stream",
     "text": [
      "More detailed info about what each of the options mean in a pop-up \n",
      "it is not a bad prototype\n",
      "I would say show the number of steps (e.g. step 2 of 5) instead of a percentage. \n",
      "Help icons. Examples of pricing differences.\n",
      "You should have an option at the beginning of the wizard allowing the user to set up a custom EC2 instance so that expert users have more control.\n",
      "This is a good redesign effort.  I think its much more accessible than the current interface.  It also doesnt give you quite as much information, so I think that those extra details such as instance ID should be accessible.\n",
      "cloudformation lets us customize a lot, not just services, but network too. May be you can include them(if I haven't missed)\n",
      "I like this prototype a lot more than the first one of yours I saw. Great work!\n"
     ]
    }
   ],
   "source": [
    "print_feedback(wizard,\"Q13\")"
   ]
  },
  {
   "cell_type": "code",
   "execution_count": 6,
   "metadata": {},
   "outputs": [
    {
     "name": "stdout",
     "output_type": "stream",
     "text": [
      "no\n",
      "It would be great to list out the individual stages in a timeline somewhere on the screen.\n"
     ]
    }
   ],
   "source": [
    "print_feedback(wizard,\"Q14\")"
   ]
  },
  {
   "cell_type": "markdown",
   "metadata": {},
   "source": [
    "### Template"
   ]
  },
  {
   "cell_type": "code",
   "execution_count": 7,
   "metadata": {},
   "outputs": [
    {
     "name": "stdout",
     "output_type": "stream",
     "text": [
      "                         count  percent\n",
      "Q1                                     \n",
      "Cloud Solution Engineer      2     10.5\n",
      "Other                        6     31.6\n",
      "Software Engineer            9     47.4\n",
      "Student                      2     10.5\n",
      "\n",
      "\n",
      "                           count  percent\n",
      "Q2                                       \n",
      "Analyst                        1     16.7\n",
      "Controls Engineer              1     16.7\n",
      "Cyber Security Management      1     16.7\n",
      "IT Auditor                     1     16.7\n",
      "Nuclear Engineer               1     16.7\n",
      "Project Manager                1     16.7\n",
      "\n",
      "\n",
      "         count  percent\n",
      "Q3                     \n",
      "18 - 29     11     57.9\n",
      "30 - 39      8     42.1\n",
      "\n",
      "\n",
      "        count  percent\n",
      "Q4                    \n",
      "Female      4     21.1\n",
      "Male       15     78.9\n",
      "\n",
      "\n",
      "               count  percent\n",
      "Q5                           \n",
      "India              1      5.3\n",
      "Middle East        1      5.3\n",
      "North America     17     89.5\n",
      "\n",
      "\n",
      "              count  percent\n",
      "Q6                          \n",
      "Intermediate      7     36.8\n",
      "Nonexistent       2     10.5\n",
      "Novice           10     52.6\n",
      "\n",
      "\n",
      "      count  percent\n",
      "Q7                  \n",
      "1-5       7     36.8\n",
      "16+       1      5.3\n",
      "6-10      2     10.5\n",
      "None      9     47.4\n",
      "\n",
      "\n",
      "    count  percent\n",
      "Q8                \n",
      "2       1      5.3\n",
      "3       6     31.6\n",
      "4      11     57.9\n",
      "5       1      5.3\n",
      "\n",
      "\n",
      "    count  percent\n",
      "Q9                \n",
      "2       1      5.3\n",
      "3       3     15.8\n",
      "4      13     68.4\n",
      "5       2     10.5\n",
      "\n",
      "\n",
      "     count  percent\n",
      "Q10                \n",
      "3        5     26.3\n",
      "4       12     63.2\n",
      "5        2     10.5\n",
      "\n",
      "\n",
      "     count  percent\n",
      "Q11                \n",
      "2        1      5.3\n",
      "3        8     42.1\n",
      "4        9     47.4\n",
      "5        1      5.3\n",
      "\n",
      "\n",
      "     count  percent\n",
      "Q12                \n",
      "2        1      5.3\n",
      "3        4     21.1\n",
      "4       13     68.4\n",
      "5        1      5.3\n",
      "\n",
      "\n"
     ]
    }
   ],
   "source": [
    "prototype_result(template,12)"
   ]
  },
  {
   "cell_type": "code",
   "execution_count": 8,
   "metadata": {},
   "outputs": [
    {
     "name": "stdout",
     "output_type": "stream",
     "text": [
      "The prototype could use a help button that takes the user to a page explaining jargon and suggesting good values for each combo box.\n",
      "For the preconfigured templates, it wasn't clear to me if they were user preconfigured or preconfigured by AWS. If it is the latter, it will be useful to get more detailed info about what's unique for a particular preconfigured template in a pop-up or something.\n",
      "help icons to get more information on items\n",
      "There's too many drop downs in one screen, too much overload. No guiding texts or explanations. Work on this aspect to help educate users in logical sections.\n",
      "It seems like there's still a lot of configuration options I need to be able to set.  What image gets spun up? How do I want networking set up? \n",
      "Needs somewhere to get up ssh keys.\n",
      "No frame of reference really, sorry!\n"
     ]
    }
   ],
   "source": [
    "print_feedback(template,\"Q13\")"
   ]
  },
  {
   "cell_type": "code",
   "execution_count": 9,
   "metadata": {},
   "outputs": [
    {
     "name": "stdout",
     "output_type": "stream",
     "text": [
      "None\n",
      "Its good, but I think the custom templates need more customization options.\n",
      "You should probably look at Elastic Beanstalk. It provides a similar interface.\n",
      "Nice work! High quality for sure. Wish I could provide better feedback!\n"
     ]
    }
   ],
   "source": [
    "print_feedback(template,\"Q14\")"
   ]
  },
  {
   "cell_type": "code",
   "execution_count": null,
   "metadata": {},
   "outputs": [],
   "source": []
  },
  {
   "cell_type": "code",
   "execution_count": null,
   "metadata": {},
   "outputs": [],
   "source": []
  },
  {
   "cell_type": "code",
   "execution_count": null,
   "metadata": {},
   "outputs": [],
   "source": []
  },
  {
   "cell_type": "markdown",
   "metadata": {},
   "source": [
    "### As of December 1, 2019"
   ]
  },
  {
   "cell_type": "code",
   "execution_count": 3,
   "metadata": {},
   "outputs": [],
   "source": [
    "wizard = pd.read_csv(\"wizard_191201.csv\")\n",
    "template = pd.read_csv(\"template_191201.csv\")"
   ]
  },
  {
   "cell_type": "markdown",
   "metadata": {},
   "source": [
    "### Wizard"
   ]
  },
  {
   "cell_type": "code",
   "execution_count": 4,
   "metadata": {},
   "outputs": [
    {
     "name": "stdout",
     "output_type": "stream",
     "text": [
      "                         count  percent\n",
      "Q1                                     \n",
      "Cloud Solution Engineer      2     14.3\n",
      "Other                        3     21.4\n",
      "Software Engineer            7     50.0\n",
      "Student                      2     14.3\n",
      "\n",
      "\n",
      "                        count  percent\n",
      "Q2                                    \n",
      "Analyst                     1     33.3\n",
      "Cyber Security Manager      1     33.3\n",
      "Network Engineer            1     33.3\n",
      "\n",
      "\n",
      "         count  percent\n",
      "Q3                     \n",
      "18 - 29      6     42.9\n",
      "30 - 39      7     50.0\n",
      "40 - 49      1      7.1\n",
      "\n",
      "\n",
      "        count  percent\n",
      "Q4                    \n",
      "Female      3     21.4\n",
      "Male       11     78.6\n",
      "\n",
      "\n",
      "               count  percent\n",
      "Q5                           \n",
      "Europe             1      7.1\n",
      "India              1      7.1\n",
      "Middle East        1      7.1\n",
      "North America     11     78.6\n",
      "\n",
      "\n",
      "              count  percent\n",
      "Q6                          \n",
      "Intermediate      6     42.9\n",
      "Novice            8     57.1\n",
      "\n",
      "\n",
      "      count  percent\n",
      "Q7                  \n",
      "1-5       7     50.0\n",
      "16+       1      7.1\n",
      "None      6     42.9\n",
      "\n",
      "\n",
      "    count  percent\n",
      "Q8                \n",
      "3       3     21.4\n",
      "4      10     71.4\n",
      "5       1      7.1\n",
      "\n",
      "\n",
      "    count  percent\n",
      "Q9                \n",
      "3       1      7.1\n",
      "4      13     92.9\n",
      "\n",
      "\n",
      "     count  percent\n",
      "Q10                \n",
      "4       12     85.7\n",
      "5        2     14.3\n",
      "\n",
      "\n",
      "     count  percent\n",
      "Q11                \n",
      "2        3     21.4\n",
      "3        2     14.3\n",
      "4        9     64.3\n",
      "\n",
      "\n",
      "     count  percent\n",
      "Q12                \n",
      "3        1      7.1\n",
      "4       12     85.7\n",
      "5        1      7.1\n",
      "\n",
      "\n"
     ]
    }
   ],
   "source": [
    "prototype_result(wizard,12)"
   ]
  },
  {
   "cell_type": "code",
   "execution_count": 5,
   "metadata": {},
   "outputs": [
    {
     "name": "stdout",
     "output_type": "stream",
     "text": [
      "More detailed info about what each of the options mean in a pop-up \n",
      "it is not a bad prototype\n",
      "I would say show the number of steps (e.g. step 2 of 5) instead of a percentage. \n",
      "Help icons. Examples of pricing differences.\n",
      "You should have an option at the beginning of the wizard allowing the user to set up a custom EC2 instance so that expert users have more control.\n",
      "This is a good redesign effort.  I think its much more accessible than the current interface.  It also doesnt give you quite as much information, so I think that those extra details such as instance ID should be accessible.\n",
      "cloudformation lets us customize a lot, not just services, but network too. May be you can include them(if I haven't missed)\n",
      "I like this prototype a lot more than the first one of yours I saw. Great work!\n"
     ]
    }
   ],
   "source": [
    "print_feedback(wizard,\"Q13\")"
   ]
  },
  {
   "cell_type": "code",
   "execution_count": 6,
   "metadata": {},
   "outputs": [
    {
     "name": "stdout",
     "output_type": "stream",
     "text": [
      "no\n",
      "It would be great to list out the individual stages in a timeline somewhere on the screen.\n"
     ]
    }
   ],
   "source": [
    "print_feedback(wizard,\"Q14\")"
   ]
  },
  {
   "cell_type": "markdown",
   "metadata": {},
   "source": [
    "### Template"
   ]
  },
  {
   "cell_type": "code",
   "execution_count": 7,
   "metadata": {},
   "outputs": [
    {
     "name": "stdout",
     "output_type": "stream",
     "text": [
      "                         count  percent\n",
      "Q1                                     \n",
      "Cloud Solution Engineer      2     10.5\n",
      "Other                        6     31.6\n",
      "Software Engineer            9     47.4\n",
      "Student                      2     10.5\n",
      "\n",
      "\n",
      "                           count  percent\n",
      "Q2                                       \n",
      "Analyst                        1     16.7\n",
      "Controls Engineer              1     16.7\n",
      "Cyber Security Management      1     16.7\n",
      "IT Auditor                     1     16.7\n",
      "Nuclear Engineer               1     16.7\n",
      "Project Manager                1     16.7\n",
      "\n",
      "\n",
      "         count  percent\n",
      "Q3                     \n",
      "18 - 29     11     57.9\n",
      "30 - 39      8     42.1\n",
      "\n",
      "\n",
      "        count  percent\n",
      "Q4                    \n",
      "Female      4     21.1\n",
      "Male       15     78.9\n",
      "\n",
      "\n",
      "               count  percent\n",
      "Q5                           \n",
      "India              1      5.3\n",
      "Middle East        1      5.3\n",
      "North America     17     89.5\n",
      "\n",
      "\n",
      "              count  percent\n",
      "Q6                          \n",
      "Intermediate      7     36.8\n",
      "Nonexistent       2     10.5\n",
      "Novice           10     52.6\n",
      "\n",
      "\n",
      "      count  percent\n",
      "Q7                  \n",
      "1-5       7     36.8\n",
      "16+       1      5.3\n",
      "6-10      2     10.5\n",
      "None      9     47.4\n",
      "\n",
      "\n",
      "    count  percent\n",
      "Q8                \n",
      "2       1      5.3\n",
      "3       6     31.6\n",
      "4      11     57.9\n",
      "5       1      5.3\n",
      "\n",
      "\n",
      "    count  percent\n",
      "Q9                \n",
      "2       1      5.3\n",
      "3       3     15.8\n",
      "4      13     68.4\n",
      "5       2     10.5\n",
      "\n",
      "\n",
      "     count  percent\n",
      "Q10                \n",
      "3        5     26.3\n",
      "4       12     63.2\n",
      "5        2     10.5\n",
      "\n",
      "\n",
      "     count  percent\n",
      "Q11                \n",
      "2        1      5.3\n",
      "3        8     42.1\n",
      "4        9     47.4\n",
      "5        1      5.3\n",
      "\n",
      "\n",
      "     count  percent\n",
      "Q12                \n",
      "2        1      5.3\n",
      "3        4     21.1\n",
      "4       13     68.4\n",
      "5        1      5.3\n",
      "\n",
      "\n"
     ]
    }
   ],
   "source": [
    "prototype_result(template,12)"
   ]
  },
  {
   "cell_type": "code",
   "execution_count": 8,
   "metadata": {},
   "outputs": [
    {
     "name": "stdout",
     "output_type": "stream",
     "text": [
      "The prototype could use a help button that takes the user to a page explaining jargon and suggesting good values for each combo box.\n",
      "For the preconfigured templates, it wasn't clear to me if they were user preconfigured or preconfigured by AWS. If it is the latter, it will be useful to get more detailed info about what's unique for a particular preconfigured template in a pop-up or something.\n",
      "help icons to get more information on items\n",
      "There's too many drop downs in one screen, too much overload. No guiding texts or explanations. Work on this aspect to help educate users in logical sections.\n",
      "It seems like there's still a lot of configuration options I need to be able to set.  What image gets spun up? How do I want networking set up? \n",
      "Needs somewhere to get up ssh keys.\n",
      "No frame of reference really, sorry!\n"
     ]
    }
   ],
   "source": [
    "print_feedback(template,\"Q13\")"
   ]
  },
  {
   "cell_type": "code",
   "execution_count": 9,
   "metadata": {},
   "outputs": [
    {
     "name": "stdout",
     "output_type": "stream",
     "text": [
      "None\n",
      "Its good, but I think the custom templates need more customization options.\n",
      "You should probably look at Elastic Beanstalk. It provides a similar interface.\n",
      "Nice work! High quality for sure. Wish I could provide better feedback!\n"
     ]
    }
   ],
   "source": [
    "print_feedback(template,\"Q14\")"
   ]
  },
  {
   "cell_type": "code",
   "execution_count": null,
   "metadata": {},
   "outputs": [],
   "source": []
  }
 ],
 "metadata": {
  "kernelspec": {
   "display_name": "Python 3.7",
   "language": "python",
   "name": "python37"
  },
  "language_info": {
   "codemirror_mode": {
    "name": "ipython",
    "version": 3
   },
   "file_extension": ".py",
   "mimetype": "text/x-python",
   "name": "python",
   "nbconvert_exporter": "python",
   "pygments_lexer": "ipython3",
   "version": "3.6.8"
  }
 },
 "nbformat": 4,
 "nbformat_minor": 2
}
